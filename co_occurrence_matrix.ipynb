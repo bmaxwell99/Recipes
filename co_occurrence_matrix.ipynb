{
  "nbformat": 4,
  "nbformat_minor": 0,
  "metadata": {
    "colab": {
      "provenance": []
    },
    "kernelspec": {
      "name": "python3",
      "display_name": "Python 3"
    },
    "language_info": {
      "name": "python"
    }
  },
  "cells": [
    {
      "cell_type": "code",
      "execution_count": null,
      "metadata": {
        "id": "uwnnghWt1qhP"
      },
      "outputs": [],
      "source": [
        "#packages\n",
        "import pickle\n",
        "import pandas as pd\n",
        "import copy\n",
        "import numpy as np\n",
        "import time\n"
      ]
    },
    {
      "cell_type": "code",
      "source": [
        "path = ''\n",
        "#personal path for maxwell. Use a diff var else\n",
        "path = '/content/drive/My Drive/MSIM/'"
      ],
      "metadata": {
        "id": "GSVeua0d12mm"
      },
      "execution_count": null,
      "outputs": []
    },
    {
      "cell_type": "code",
      "source": [
        "mapping = path + 'ingr_map.pkl'\n",
        "\n",
        "# open the pickle document using the pickle package\n",
        "with open(mapping, 'rb') as f:\n",
        "    map = pickle.load(f)"
      ],
      "metadata": {
        "id": "N8dq8yOk2Fnq"
      },
      "execution_count": null,
      "outputs": []
    },
    {
      "cell_type": "code",
      "source": [
        "# create a series of ingredient names (used for later)\n",
        "unique_ingredient_names = map['replaced'].unique()\n",
        "\n",
        "#get the unique ids of the replaced values\n",
        "unique_ingredient_ids = map['id'].unique()\n",
        "\n",
        "#reorder in asc\n",
        "unique_ingredient_ids = np.sort(unique_ingredient_ids)"
      ],
      "metadata": {
        "id": "xD_TbL9T2mR_"
      },
      "execution_count": null,
      "outputs": []
    },
    {
      "cell_type": "code",
      "source": [
        "recipe_path = path + 'PP_recipes_small.csv'\n",
        "\n",
        "# read in the encoded ingredient dataset\n",
        "recipes = pd.read_csv(recipe_path, encoding = 'utf-8')"
      ],
      "metadata": {
        "id": "GA1c-TaV3B9h"
      },
      "execution_count": null,
      "outputs": []
    },
    {
      "cell_type": "code",
      "source": [
        "#reads in the cleaned recipe ingredient IDs\n",
        "recipe_ingredient_ids = pd.read_json(path + 'recipe_ingredient_ids.json', typ='series')"
      ],
      "metadata": {
        "id": "rktKKinT3KMu"
      },
      "execution_count": null,
      "outputs": []
    },
    {
      "cell_type": "code",
      "source": [
        "#trivial case to confirm code works\n",
        "#unique_ingredient_ids = np.array([1,2,3,4,5])\n",
        "#recipe_ingredient_ids = pd.Series([[2,4,5],[1,2,4]])"
      ],
      "metadata": {
        "id": "sjGJq9HP5sfu"
      },
      "execution_count": null,
      "outputs": []
    },
    {
      "cell_type": "code",
      "source": [
        "#decrease compute time by storing variable\n",
        "unique_size = unique_ingredient_ids.size\n",
        "recipe_size = recipe_ingredient_ids.size\n",
        "\n",
        "#breakpoint only needed for early stopping\n",
        "break_point =  recipe_size \n",
        "\n",
        "#create a sparse matrix \n",
        "coocurrence_matrix = np.zeros((unique_size, unique_size), dtype=int)\n",
        "\n",
        "#occurence_matrix = pd.DataFrame(columns=unique_ingredient_ids)\n",
        "start_time = time.time()\n",
        "\n",
        "#cycles through each recipe in the recipe list\n",
        "for nth_recipe in range(recipe_size):\n",
        "    #debug\n",
        "    #print('looking at the', nth_recipe, ' in the list of recipes sized', recipe_size)\n",
        "    \n",
        "    if nth_recipe % 1000 == 0:\n",
        "        print(\"Got to\", nth_recipe)\n",
        "    if nth_recipe == break_point:\n",
        "        print('reached break point of', break_point,'. Stopping.')\n",
        "        break\n",
        "    \n",
        "    #saves the single recipe in question\n",
        "    each_recipe = recipe_ingredient_ids[nth_recipe]\n",
        "    #debug\n",
        "    #print('recipe in question is', each_recipe)\n",
        "\n",
        "    #cycles through each ingredient in the recipe\n",
        "    for nth_ingredient in range(len(each_recipe)):\n",
        "      \n",
        "      #saves the target ingredient \n",
        "      target_ingredient = int(each_recipe[nth_ingredient])\n",
        "      #debug\n",
        "      #print('target ingredient is', target_ingredient)\n",
        "      \n",
        "      #saves a temporary list of all ingredients in the recipe except the target\n",
        "      other_ingredients = np.concatenate(( np.array(each_recipe[:nth_ingredient]),np.array(each_recipe[nth_ingredient+1:])))\n",
        "      #debug\n",
        "      #print('other ingredients in the recipe are', other_ingredients)\n",
        "      \n",
        "      #cycles through each other ingredient in the reciipe to compare it to the target\n",
        "      for other_ingredient in other_ingredients:\n",
        "        other_ingredient = int(other_ingredient)\n",
        "        #debug\n",
        "        #print('the specific other ingredient compared to target is:', other_ingredient)\n",
        "        \n",
        "        #increases the value at the intersection of ROW of the other ingrediant and the COLUMN of the target ingredient\n",
        "        coocurrence_matrix[other_ingredient - 1, target_ingredient - 1] += 1\n",
        "\n",
        "occurrence_matrix2_runtime = (time.time() - start_time)\n",
        "print(\"--- %s seconds ---\" % occurrence_matrix2_runtime)"
      ],
      "metadata": {
        "colab": {
          "base_uri": "https://localhost:8080/"
        },
        "id": "TcC-XsAe3rw2",
        "outputId": "517ed317-ceb7-47c1-8463-43d1d8c3d7e2"
      },
      "execution_count": null,
      "outputs": [
        {
          "output_type": "stream",
          "name": "stdout",
          "text": [
            "Got to 0\n",
            "Got to 1000\n",
            "Got to 2000\n",
            "Got to 3000\n",
            "Got to 4000\n",
            "Got to 5000\n",
            "Got to 6000\n",
            "Got to 7000\n",
            "Got to 8000\n",
            "Got to 9000\n",
            "Got to 10000\n",
            "Got to 11000\n",
            "Got to 12000\n",
            "Got to 13000\n",
            "Got to 14000\n",
            "Got to 15000\n",
            "Got to 16000\n",
            "Got to 17000\n",
            "Got to 18000\n",
            "Got to 19000\n",
            "Got to 20000\n",
            "Got to 21000\n",
            "Got to 22000\n",
            "Got to 23000\n",
            "Got to 24000\n",
            "Got to 25000\n",
            "Got to 26000\n",
            "Got to 27000\n",
            "Got to 28000\n",
            "Got to 29000\n",
            "Got to 30000\n",
            "Got to 31000\n",
            "Got to 32000\n",
            "Got to 33000\n",
            "Got to 34000\n",
            "Got to 35000\n",
            "Got to 36000\n",
            "Got to 37000\n",
            "Got to 38000\n",
            "Got to 39000\n",
            "Got to 40000\n",
            "Got to 41000\n",
            "Got to 42000\n",
            "Got to 43000\n",
            "Got to 44000\n",
            "Got to 45000\n",
            "Got to 46000\n",
            "Got to 47000\n",
            "Got to 48000\n",
            "Got to 49000\n",
            "Got to 50000\n",
            "Got to 51000\n",
            "Got to 52000\n",
            "Got to 53000\n",
            "Got to 54000\n",
            "Got to 55000\n",
            "Got to 56000\n",
            "Got to 57000\n",
            "Got to 58000\n",
            "Got to 59000\n",
            "Got to 60000\n",
            "Got to 61000\n",
            "Got to 62000\n",
            "Got to 63000\n",
            "Got to 64000\n",
            "Got to 65000\n",
            "Got to 66000\n",
            "Got to 67000\n",
            "Got to 68000\n",
            "Got to 69000\n",
            "Got to 70000\n",
            "Got to 71000\n",
            "Got to 72000\n",
            "Got to 73000\n",
            "Got to 74000\n",
            "Got to 75000\n",
            "Got to 76000\n",
            "Got to 77000\n",
            "Got to 78000\n",
            "Got to 79000\n",
            "Got to 80000\n",
            "Got to 81000\n",
            "Got to 82000\n",
            "Got to 83000\n",
            "Got to 84000\n",
            "Got to 85000\n",
            "Got to 86000\n",
            "Got to 87000\n",
            "Got to 88000\n",
            "Got to 89000\n",
            "Got to 90000\n",
            "Got to 91000\n",
            "Got to 92000\n",
            "Got to 93000\n",
            "Got to 94000\n",
            "Got to 95000\n",
            "Got to 96000\n",
            "Got to 97000\n",
            "Got to 98000\n",
            "Got to 99000\n",
            "Got to 100000\n",
            "Got to 101000\n",
            "Got to 102000\n",
            "Got to 103000\n",
            "Got to 104000\n",
            "Got to 105000\n",
            "Got to 106000\n",
            "Got to 107000\n",
            "Got to 108000\n",
            "Got to 109000\n",
            "Got to 110000\n",
            "Got to 111000\n",
            "Got to 112000\n",
            "Got to 113000\n",
            "Got to 114000\n",
            "Got to 115000\n",
            "Got to 116000\n",
            "Got to 117000\n",
            "Got to 118000\n",
            "Got to 119000\n",
            "Got to 120000\n",
            "Got to 121000\n",
            "Got to 122000\n",
            "Got to 123000\n",
            "Got to 124000\n",
            "Got to 125000\n",
            "Got to 126000\n",
            "Got to 127000\n",
            "Got to 128000\n",
            "Got to 129000\n",
            "Got to 130000\n",
            "Got to 131000\n",
            "Got to 132000\n",
            "Got to 133000\n",
            "Got to 134000\n",
            "Got to 135000\n",
            "Got to 136000\n",
            "Got to 137000\n",
            "Got to 138000\n",
            "Got to 139000\n",
            "Got to 140000\n",
            "Got to 141000\n",
            "Got to 142000\n",
            "Got to 143000\n",
            "Got to 144000\n",
            "Got to 145000\n",
            "Got to 146000\n",
            "Got to 147000\n",
            "Got to 148000\n",
            "Got to 149000\n",
            "Got to 150000\n",
            "Got to 151000\n",
            "Got to 152000\n",
            "Got to 153000\n",
            "Got to 154000\n",
            "Got to 155000\n",
            "Got to 156000\n",
            "Got to 157000\n",
            "Got to 158000\n",
            "Got to 159000\n",
            "Got to 160000\n",
            "Got to 161000\n",
            "Got to 162000\n",
            "Got to 163000\n",
            "Got to 164000\n",
            "Got to 165000\n",
            "Got to 166000\n",
            "Got to 167000\n",
            "Got to 168000\n",
            "Got to 169000\n",
            "Got to 170000\n",
            "Got to 171000\n",
            "Got to 172000\n",
            "Got to 173000\n",
            "Got to 174000\n",
            "Got to 175000\n",
            "Got to 176000\n",
            "Got to 177000\n",
            "Got to 178000\n",
            "--- 41.371782064437866 seconds ---\n"
          ]
        }
      ]
    },
    {
      "cell_type": "code",
      "source": [
        "coocurrence_matrix = pd.DataFrame(coocurrence_matrix)\n",
        "coocurrence_matrix.to_csv(path + 'cooccurence_matrix.csv')"
      ],
      "metadata": {
        "id": "R56AJ9i_8Qx8"
      },
      "execution_count": null,
      "outputs": []
    },
    {
      "cell_type": "code",
      "source": [],
      "metadata": {
        "colab": {
          "base_uri": "https://localhost:8080/"
        },
        "id": "k_N6_JPHEBLr",
        "outputId": "2a7f533f-3815-4f28-db6e-edec3bf13736"
      },
      "execution_count": null,
      "outputs": [
        {
          "output_type": "execute_result",
          "data": {
            "text/plain": [
              "6269    618810\n",
              "5009    384980\n",
              "839     364406\n",
              "2498    348852\n",
              "5005    292960\n",
              "6905    284053\n",
              "3202    273027\n",
              "7654    229403\n",
              "2682    189683\n",
              "4716    183456\n",
              "dtype: int64"
            ]
          },
          "metadata": {},
          "execution_count": 55
        }
      ]
    }
  ]
}